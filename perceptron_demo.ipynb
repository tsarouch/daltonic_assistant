{
 "cells": [
  {
   "cell_type": "code",
   "execution_count": 85,
   "metadata": {
    "collapsed": false
   },
   "outputs": [],
   "source": [
    "%matplotlib inline\n",
    "import matplotlib.pyplot as plt"
   ]
  },
  {
   "cell_type": "markdown",
   "metadata": {},
   "source": [
    "## Data"
   ]
  },
  {
   "cell_type": "code",
   "execution_count": 86,
   "metadata": {
    "collapsed": false
   },
   "outputs": [
    {
     "name": "stdout",
     "output_type": "stream",
     "text": [
      "data example:\n",
      "[[-0.34348594 -0.55805145  0.        ]\n",
      " [-0.51484832 -0.41608057  0.        ]\n",
      " [-0.56767092 -0.5192265   0.        ]\n",
      " [ 0.66276557  0.49362349  1.        ]]\n"
     ]
    },
    {
     "data": {
      "image/png": "[encoded data removed]",
      "text/plain": [
       "<matplotlib.figure.Figure at 0x112755e50>"
      ]
     },
     "metadata": {},
     "output_type": "display_data"
    }
   ],
   "source": [
    "# Lets have some (linearly separated blobs) data to start with \n",
    "def get_datapoints(n):\n",
    "    import numpy as np\n",
    "    from sklearn.datasets.samples_generator import make_blobs\n",
    "    X, labels = make_blobs(n_samples=n, centers=[[-0.5, -0.5], [0.5, 0.5]], cluster_std=0.1)\n",
    "    # add X and labels\n",
    "    return np.append(X, labels.reshape(len(labels), 1), axis=1)\n",
    "\n",
    "data = get_datapoints(20)\n",
    "print \"data example:\\n\", data[:4]\n",
    "# plot them\n",
    "_ = plt.scatter(data[:,0], data[:,1])"
   ]
  },
  {
   "cell_type": "markdown",
   "metadata": {},
   "source": [
    "# The perceptron as class"
   ]
  },
  {
   "cell_type": "code",
   "execution_count": 325,
   "metadata": {
    "collapsed": false
   },
   "outputs": [],
   "source": [
    "from pylab import rand,plot,show,norm\n",
    "\n",
    "class Perceptron:\n",
    "    \n",
    "    def __init__(self, verbose=True):\n",
    "        \"\"\" perceptron initialization \"\"\"\n",
    "        self.w = rand(2) * 2 - 1\n",
    "        self.w_vec = [] # we keep also the evolution of the weights\n",
    "\n",
    "        # The learning rate we choose\n",
    "        self.learning_rate = 0.01\n",
    "    \n",
    "        # print training info if verbose \n",
    "        self.verbose = verbose\n",
    "    \n",
    "    def response(self,x):\n",
    "        \"\"\" perceptron output \"\"\"\n",
    "        # dot product between w and x\n",
    "        y = x[0] * self.w[0] + x[1] * self.w[1] \n",
    "        return 1 if y >= 0. else 0\n",
    "\n",
    "    \n",
    "    def train(self, data, n_epochs=100):\n",
    "        \"\"\" \n",
    "        trains all the vector in data.\n",
    "        Every vector in data must have three elements,\n",
    "        the third element (x[2]) must be the label (desired output)\n",
    "        \"\"\"\n",
    "        learned = False\n",
    "        for epoch in range(n_epochs):\n",
    "            \n",
    "            sum_error = 0.0\n",
    "            for datapoint in data: \n",
    "\n",
    "                expected = datapoint[2]\n",
    "                predicted = self.response(datapoint)    \n",
    "                \n",
    "                # if we have a wrong response\n",
    "                #print self.w, expected, predicted\n",
    "\n",
    "\n",
    "                if expected != predicted: \n",
    "\n",
    "                    \n",
    "                    # update sum error\n",
    "                    sum_error += abs(expected - predicted)\n",
    "\n",
    "                    # update weights\n",
    "                    # w(t+1) = w(t) + learning_rate * (expected - predicted) * x\n",
    "                    self.w[0] += self.learning_rate * (expected - predicted) * datapoint[0]\n",
    "                    self.w[1] += self.learning_rate * (expected - predicted) * datapoint[1]\n",
    "\n",
    "                    # keep history\n",
    "                    self.w_vec.append(self.w)\n",
    "\n",
    "            print \"epoch:{0}, sum error: {1}, learned: {2}, weights: {3}\"\\\n",
    "                    .format(epoch, sum_error, (sum_error == 0), self.w)\n",
    "            if sum_error == 0.:\n",
    "                print self.w\n",
    "\n",
    "                break\n",
    "\n"
   ]
  },
  {
   "cell_type": "markdown",
   "metadata": {},
   "source": [
    "# Train Perceptron"
   ]
  },
  {
   "cell_type": "code",
   "execution_count": 322,
   "metadata": {
    "collapsed": false
   },
   "outputs": [
    {
     "name": "stdout",
     "output_type": "stream",
     "text": [
      "epoch:0, sum error: 62.0, learned: False\n",
      "epoch:1, sum error: 2.0, learned: False\n",
      "epoch:2, sum error: 1.0, learned: False\n",
      "epoch:3, sum error: 1.0, learned: False\n",
      "epoch:4, sum error: 1.0, learned: False\n",
      "epoch:5, sum error: 1.0, learned: False\n",
      "epoch:6, sum error: 0.0, learned: True\n",
      "[-0.06410504  0.26924204]\n"
     ]
    }
   ],
   "source": [
    "data_train = get_datapoints(1000)\n",
    "perceptron = Perceptron()   \n",
    "perceptron.train(data_train)  "
   ]
  },
  {
   "cell_type": "markdown",
   "metadata": {},
   "source": [
    "# Use (trained) Perceptron for classification"
   ]
  },
  {
   "cell_type": "code",
   "execution_count": 329,
   "metadata": {
    "collapsed": false
   },
   "outputs": [
    {
     "name": "stdout",
     "output_type": "stream",
     "text": [
      "error\n"
     ]
    },
    {
     "data": {
      "image/png": "[encoded data removed]",
      "text/plain": [
       "<matplotlib.figure.Figure at 0x113043a50>"
      ]
     },
     "metadata": {},
     "output_type": "display_data"
    }
   ],
   "source": [
    "testset = get_datapoints(100)  # test set generation\n",
    "# Perceptron test\n",
    "for x in testset:\n",
    "    r = perceptron.response(x)\n",
    "    if r != x[2]: # if the response is not correct\n",
    "        print 'error'\n",
    "    if r == 1:\n",
    "        plot(x[0],x[1],'ob')  \n",
    "    else:\n",
    "        plot(x[0],x[1],'or')\n",
    "\n",
    "\n",
    "# plot of the separation line.\n",
    "# The separation line is orthogonal to w\n",
    "n = norm(perceptron.w)\n",
    "ww = perceptron.w/n\n",
    "ww1 = [ww[1], -ww[0]]\n",
    "ww2 = [-ww[1], ww[0]]\n",
    "plot([ww1[0], ww2[0]],[ww1[1], ww2[1]],'--k')\n",
    "\n",
    "# plot now the initial separation line\n",
    "w_i = perceptron.w_vec[0]\n",
    "ww_i = w_i/norm(w_i)\n",
    "ww1_i = [ww_i[1], -ww_i[0]]\n",
    "ww2_i = [-ww_i[1], ww_i[0]]\n",
    "plot([ww1_i[0], ww2_i[0]],[ww1_i[1], ww2_i[1]],'-b')\n",
    "\n",
    "show()"
   ]
  },
  {
   "cell_type": "markdown",
   "metadata": {},
   "source": [
    "# Understand Initialization Step"
   ]
  },
  {
   "cell_type": "code",
   "execution_count": 326,
   "metadata": {
    "collapsed": false
   },
   "outputs": [
    {
     "name": "stdout",
     "output_type": "stream",
     "text": [
      "epoch:0, sum error: 45.0, learned: False, weights: [ 0.47063333 -0.20533736]\n",
      "epoch:1, sum error: 3.0, learned: False, weights: [ 0.47782744 -0.18741038]\n",
      "epoch:2, sum error: 1.0, learned: False, weights: [ 0.47999638 -0.18181547]\n",
      "epoch:3, sum error: 0.0, learned: True, weights: [ 0.47999638 -0.18181547]\n",
      "[ 0.47999638 -0.18181547]\n"
     ]
    }
   ],
   "source": [
    "# generate data\n",
    "data = get_datapoints(200)\n",
    "train_data = data[:100]\n",
    "test_data = data[100:]\n",
    "\n",
    "# train with perceptron\n",
    "perceptron = Perceptron(verbose=True)   \n",
    "perceptron.train(data_train)  \n"
   ]
  },
  {
   "cell_type": "code",
   "execution_count": 327,
   "metadata": {
    "collapsed": false
   },
   "outputs": [
    {
     "data": {
      "text/plain": [
       "[array([ 0.47999638, -0.18181547]),\n",
       " array([ 0.47999638, -0.18181547]),\n",
       " array([ 0.47999638, -0.18181547]),\n",
       " array([ 0.47999638, -0.18181547]),\n",
       " array([ 0.47999638, -0.18181547]),\n",
       " array([ 0.47999638, -0.18181547]),\n",
       " array([ 0.47999638, -0.18181547]),\n",
       " array([ 0.47999638, -0.18181547]),\n",
       " array([ 0.47999638, -0.18181547]),\n",
       " array([ 0.47999638, -0.18181547]),\n",
       " array([ 0.47999638, -0.18181547]),\n",
       " array([ 0.47999638, -0.18181547]),\n",
       " array([ 0.47999638, -0.18181547]),\n",
       " array([ 0.47999638, -0.18181547]),\n",
       " array([ 0.47999638, -0.18181547]),\n",
       " array([ 0.47999638, -0.18181547]),\n",
       " array([ 0.47999638, -0.18181547]),\n",
       " array([ 0.47999638, -0.18181547]),\n",
       " array([ 0.47999638, -0.18181547]),\n",
       " array([ 0.47999638, -0.18181547]),\n",
       " array([ 0.47999638, -0.18181547]),\n",
       " array([ 0.47999638, -0.18181547]),\n",
       " array([ 0.47999638, -0.18181547]),\n",
       " array([ 0.47999638, -0.18181547]),\n",
       " array([ 0.47999638, -0.18181547]),\n",
       " array([ 0.47999638, -0.18181547]),\n",
       " array([ 0.47999638, -0.18181547]),\n",
       " array([ 0.47999638, -0.18181547]),\n",
       " array([ 0.47999638, -0.18181547]),\n",
       " array([ 0.47999638, -0.18181547]),\n",
       " array([ 0.47999638, -0.18181547]),\n",
       " array([ 0.47999638, -0.18181547]),\n",
       " array([ 0.47999638, -0.18181547]),\n",
       " array([ 0.47999638, -0.18181547]),\n",
       " array([ 0.47999638, -0.18181547]),\n",
       " array([ 0.47999638, -0.18181547]),\n",
       " array([ 0.47999638, -0.18181547]),\n",
       " array([ 0.47999638, -0.18181547]),\n",
       " array([ 0.47999638, -0.18181547]),\n",
       " array([ 0.47999638, -0.18181547]),\n",
       " array([ 0.47999638, -0.18181547]),\n",
       " array([ 0.47999638, -0.18181547]),\n",
       " array([ 0.47999638, -0.18181547]),\n",
       " array([ 0.47999638, -0.18181547]),\n",
       " array([ 0.47999638, -0.18181547]),\n",
       " array([ 0.47999638, -0.18181547]),\n",
       " array([ 0.47999638, -0.18181547]),\n",
       " array([ 0.47999638, -0.18181547]),\n",
       " array([ 0.47999638, -0.18181547])]"
      ]
     },
     "execution_count": 327,
     "metadata": {},
     "output_type": "execute_result"
    }
   ],
   "source": [
    "perceptron.w_vec"
   ]
  },
  {
   "cell_type": "code",
   "execution_count": null,
   "metadata": {
    "collapsed": true
   },
   "outputs": [],
   "source": [
    "# Perceptron test\n",
    "for x in test_data:\n",
    "    r = perceptron.response(x)\n",
    "    if r != x[2]: # if the response is not correct\n",
    "        print 'error'\n",
    "    if r == 1:\n",
    "        plot(x[0],x[1],'ob')  \n",
    "    else:\n",
    "        plot(x[0],x[1],'or')\n",
    "\n",
    "\n",
    "\n",
    "plot([ww1_i[0], ww2_i[0]],[ww1_i[1], ww2_i[1]],'-b')\n",
    "\n",
    "show()"
   ]
  }
 ],
 "metadata": {
  "kernelspec": {
   "display_name": "Python 2",
   "language": "python",
   "name": "python2"
  },
  "language_info": {
   "codemirror_mode": {
    "name": "ipython",
    "version": 2
   },
   "file_extension": ".py",
   "mimetype": "text/x-python",
   "name": "python",
   "nbconvert_exporter": "python",
   "pygments_lexer": "ipython2",
   "version": "2.7.12"
  }
 },
 "nbformat": 4,
 "nbformat_minor": 0
}
