{
 "cells": [
  {
   "cell_type": "markdown",
   "metadata": {},
   "source": [
    "**Aim**\n",
    "\n",
    "This notebook can be used in order to vizualise in real time the training of the Perceptron.\n",
    "It connects to the serial port of Arduino and reads the values of colors and weights. \n",
    "Then it plots them to a 2D plane.\n",
    "\n",
    "**Data input**\n",
    "* The r, g, bias information used to train the perceptron\n",
    "* The wr, wg, wbias, the corresponding weigts of the perceptron iterations so we can plot the separation plan and see how the training converges and when it stops.\n",
    "\n"
   ]
  },
  {
   "cell_type": "markdown",
   "metadata": {},
   "source": [
    "### Import plotting libraries"
   ]
  },
  {
   "cell_type": "code",
   "execution_count": 15,
   "metadata": {
    "collapsed": false
   },
   "outputs": [],
   "source": [
    "import matplotlib.pyplot as plt\n",
    "import numpy as np\n",
    "%matplotlib inline  "
   ]
  },
  {
   "cell_type": "markdown",
   "metadata": {},
   "source": [
    "### Import Serial communication libraries"
   ]
  },
  {
   "cell_type": "code",
   "execution_count": 18,
   "metadata": {
    "collapsed": false
   },
   "outputs": [],
   "source": [
    "import serial\n",
    "ser = serial.Serial('/dev/cu.usbmodem1411', 9600)"
   ]
  },
  {
   "cell_type": "markdown",
   "metadata": {},
   "source": [
    "### Update data in a 2D plot"
   ]
  },
  {
   "cell_type": "code",
   "execution_count": null,
   "metadata": {
    "collapsed": false,
    "scrolled": true
   },
   "outputs": [
    {
     "data": {
      "image/png": "[encoded data removed]",
      "text/plain": [
       "<matplotlib.figure.Figure at 0x111c20e50>"
      ]
     },
     "metadata": {},
     "output_type": "display_data"
    }
   ],
   "source": [
    "from pylab import norm\n",
    "import pylab as pl\n",
    "from IPython import display\n",
    "    \n",
    "    \n",
    "    \n",
    "last_r = 0.\n",
    "last_g = 0.\n",
    "line_plot = None\n",
    "log_type = None\n",
    "while True:\n",
    "    line = ser.readline()\n",
    "    line = line.decode('utf-8').strip()\n",
    "    print line\n",
    "            \n",
    "    line_parts = line.split(\",\")\n",
    "    \n",
    "    log_type = line_parts[0]    \n",
    "    if log_type == \"reading\":\n",
    "        r, g, c = line_parts[1:]\n",
    "        r = float(r)\n",
    "        g = float(g)\n",
    "        \n",
    "    elif log_type == \"training\":\n",
    "        r, g, c, wr, wg, wbias = line_parts[1:]\n",
    "        r = float(r)\n",
    "        g = float(g)\n",
    "        wr = float(wr)\n",
    "        wg = float(wg)\n",
    "        wbias = float(wbias)\n",
    "            \n",
    "        # plot the line\n",
    "        x = np.arange(0, 300, 5)\n",
    "        y = -1. * wr / wg * x - wbias / wg  \n",
    "        if line_plot:\n",
    "            l = line_plot.pop(0)\n",
    "            l.remove()\n",
    "            del l\n",
    "        line_plot = pl.plot(x, y, '--k')\n",
    "\n",
    "\n",
    "    # no need to  see every single update of serial\n",
    "    if (r == last_r) and (g==last_g):\n",
    "        continue\n",
    "    last_r = r\n",
    "    last_g = g\n",
    "    \n",
    "    \n",
    "    pl.scatter(r, g, color=c)    \n",
    "    pl.xlim([0, 255])\n",
    "    pl.ylim([0, 255])\n",
    "    display.clear_output(wait=True)\n",
    "    display.display(pl.gcf())\n",
    "\n"
   ]
  },
  {
   "cell_type": "code",
   "execution_count": null,
   "metadata": {
    "collapsed": true
   },
   "outputs": [],
   "source": []
  },
  {
   "cell_type": "code",
   "execution_count": null,
   "metadata": {
    "collapsed": true
   },
   "outputs": [],
   "source": []
  }
 ],
 "metadata": {
  "kernelspec": {
   "display_name": "Python 2",
   "language": "python",
   "name": "python2"
  },
  "language_info": {
   "codemirror_mode": {
    "name": "ipython",
    "version": 2
   },
   "file_extension": ".py",
   "mimetype": "text/x-python",
   "name": "python",
   "nbconvert_exporter": "python",
   "pygments_lexer": "ipython2",
   "version": "2.7.12"
  }
 },
 "nbformat": 4,
 "nbformat_minor": 0
}
