{
 "cells": [
  {
   "cell_type": "code",
   "execution_count": 14,
   "metadata": {
    "collapsed": false
   },
   "outputs": [],
   "source": [
    "%matplotlib inline\n",
    "import matplotlib.pyplot as plt\n",
    "import pandas as pd"
   ]
  },
  {
   "cell_type": "markdown",
   "metadata": {
    "collapsed": true
   },
   "source": [
    "# RGB Data \n",
    "Firstly we read the .csv file of our color readings data. The data are generated and exported using the same Arduino setup with the Adafruit TCS34725 color sensor. For more info see README file in the data folder. \n",
    "\n",
    "The data include 4 columns:\n",
    "* r: the red value [0, 255]\n",
    "* g: the green value [0, 255]\n",
    "* b: the blue value [0, 255]\n",
    "* label: label of the color (g for green / r for red)"
   ]
  },
  {
   "cell_type": "code",
   "execution_count": 4,
   "metadata": {
    "collapsed": false
   },
   "outputs": [
    {
     "data": {
      "text/html": [
       "<div>\n",
       "<table border=\"1\" class=\"dataframe\">\n",
       "  <thead>\n",
       "    <tr style=\"text-align: right;\">\n",
       "      <th></th>\n",
       "      <th>r</th>\n",
       "      <th>g</th>\n",
       "      <th>b</th>\n",
       "      <th>label</th>\n",
       "    </tr>\n",
       "  </thead>\n",
       "  <tbody>\n",
       "    <tr>\n",
       "      <th>0</th>\n",
       "      <td>54.12</td>\n",
       "      <td>132.65</td>\n",
       "      <td>78.95</td>\n",
       "      <td>g</td>\n",
       "    </tr>\n",
       "    <tr>\n",
       "      <th>1</th>\n",
       "      <td>46.83</td>\n",
       "      <td>136.46</td>\n",
       "      <td>82.19</td>\n",
       "      <td>g</td>\n",
       "    </tr>\n",
       "    <tr>\n",
       "      <th>2</th>\n",
       "      <td>45.94</td>\n",
       "      <td>136.43</td>\n",
       "      <td>83.29</td>\n",
       "      <td>g</td>\n",
       "    </tr>\n",
       "  </tbody>\n",
       "</table>\n",
       "</div>"
      ],
      "text/plain": [
       "       r       g      b label\n",
       "0  54.12  132.65  78.95     g\n",
       "1  46.83  136.46  82.19     g\n",
       "2  45.94  136.43  83.29     g"
      ]
     },
     "execution_count": 4,
     "metadata": {},
     "output_type": "execute_result"
    }
   ],
   "source": [
    "df = pd.read_csv('data/rgb.csv')\n",
    "df.head(3)"
   ]
  },
  {
   "cell_type": "markdown",
   "metadata": {},
   "source": [
    "## Vizualize our data\n",
    "As next step would be nice to visualize our data. Since in daltonic assistant project we are interested in Red Green separation, we are going to use the two first columns that correspond to red and green and leave out the blue. In this way we can also have a nice visualization in a 2D plane. "
   ]
  },
  {
   "cell_type": "code",
   "execution_count": 55,
   "metadata": {
    "collapsed": false
   },
   "outputs": [
    {
     "data": {
      "image/png": "[encoded data removed]",
      "text/plain": [
       "<matplotlib.figure.Figure at 0x1130e4910>"
      ]
     },
     "metadata": {},
     "output_type": "display_data"
    }
   ],
   "source": [
    "label_color_map = {'r':'red', 'g':'green', 'w':'black'} \n",
    "for label in list(set(df['label'].values)):\n",
    "    vec = [(r,g) for (r,g,b,l) in df.values if l==label]\n",
    "    plt.scatter(np.array(vec)[:,0], \n",
    "                np.array(vec)[:,1], \n",
    "                color=label_color_map[label])\n",
    "plt.xlabel('red [0, 255]')\n",
    "plt.ylabel('green [0, 255]')\n",
    "plt.show()"
   ]
  },
  {
   "cell_type": "code",
   "execution_count": null,
   "metadata": {
    "collapsed": true
   },
   "outputs": [],
   "source": []
  }
 ],
 "metadata": {
  "kernelspec": {
   "display_name": "Python 2",
   "language": "python",
   "name": "python2"
  },
  "language_info": {
   "codemirror_mode": {
    "name": "ipython",
    "version": 2
   },
   "file_extension": ".py",
   "mimetype": "text/x-python",
   "name": "python",
   "nbconvert_exporter": "python",
   "pygments_lexer": "ipython2",
   "version": "2.7.12"
  }
 },
 "nbformat": 4,
 "nbformat_minor": 0
}
